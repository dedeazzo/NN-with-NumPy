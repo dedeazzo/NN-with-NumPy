{
  "cells": [
    {
      "cell_type": "markdown",
      "metadata": {
        "id": "vA_Nm4gM4oX9"
      },
      "source": [
        "# Single-layer NN"
      ]
    },
    {
      "cell_type": "markdown",
      "metadata": {
        "id": "e7vPaIoU4pqD"
      },
      "source": [
        "In this file a neural network algorithm is created from scratch using only NumPy and the MNIST dataset. The results will be compared under different normalization/activation settings of the same architecture.\n",
        "\n",
        "**This code is part of a Machine Learning assignment from Stockholm University**"
      ]
    },
    {
      "cell_type": "markdown",
      "metadata": {
        "id": "qtWBHOcoqnKH"
      },
      "source": [
        "## 1. Data preprocessing"
      ]
    },
    {
      "cell_type": "code",
      "execution_count": 1,
      "metadata": {
        "id": "VA351vjdly0R"
      },
      "outputs": [],
      "source": [
        "import numpy as np\n",
        "import matplotlib.pyplot as plt\n",
        "from sklearn.datasets import fetch_openml\n",
        "from sklearn.model_selection import train_test_split, RandomizedSearchCV\n",
        "from sklearn.base import BaseEstimator, TransformerMixin\n",
        "from sklearn.pipeline import Pipeline"
      ]
    },
    {
      "cell_type": "markdown",
      "metadata": {
        "id": "nCm_Zo2W8Q22"
      },
      "source": [
        "The MNIST dataset was constructed from two datasets of the US National Institute\n",
        "of Standards and Technology (NIST). The training dataset consists of handwritten\n",
        "digits from 250 different people, 50 percent high school students and 50 percent\n",
        "employees from the Census Bureau. Note that the test dataset contains handwritten digits from different people following the same split."
      ]
    },
    {
      "cell_type": "markdown",
      "metadata": {
        "id": "aPqJ7jTk7aaG"
      },
      "source": [
        "![alt text](https://dezyre.gumlet.net/images/Exploring+MNIST+Dataset+using+PyTorch+to+Train+an+MLP/MNIST+Dataset.png?w=900&dpr=1.0)"
      ]
    },
    {
      "cell_type": "markdown",
      "metadata": {
        "id": "V29SZpPn8S69"
      },
      "source": [
        "This MNIST dataset can be directly downloaded using scikit-learn."
      ]
    },
    {
      "cell_type": "code",
      "execution_count": 2,
      "metadata": {
        "id": "CmAMpQXwdq4t"
      },
      "outputs": [],
      "source": [
        "X, y = fetch_openml(\"mnist_784\", version=1, return_X_y=True, as_frame=False)"
      ]
    },
    {
      "cell_type": "markdown",
      "metadata": {
        "id": "UGUngFc88XsU"
      },
      "source": [
        "It has 70,000 different handwriting instances. It usually has 60,000 instances as a training set and the remaining ones as a test set, but scikit-learn loads it as a whole."
      ]
    },
    {
      "cell_type": "code",
      "execution_count": 3,
      "metadata": {
        "colab": {
          "base_uri": "https://localhost:8080/"
        },
        "id": "gVuTqRrtlb44",
        "outputId": "c2194c6c-c8fd-4916-a967-77c72713bdcc"
      },
      "outputs": [
        {
          "data": {
            "text/plain": [
              "((70000, 784), (70000,))"
            ]
          },
          "execution_count": 3,
          "metadata": {},
          "output_type": "execute_result"
        }
      ],
      "source": [
        "X.shape, y.shape"
      ]
    },
    {
      "cell_type": "markdown",
      "metadata": {
        "id": "kILkvez98bVl"
      },
      "source": [
        "We can also check the class distribution"
      ]
    },
    {
      "cell_type": "code",
      "execution_count": 4,
      "metadata": {
        "colab": {
          "base_uri": "https://localhost:8080/",
          "height": 283
        },
        "id": "YNAjbM-Z8ixF",
        "outputId": "4c793000-810d-4d40-d717-61d4d1e90590"
      },
      "outputs": [
        {
          "data": {
            "text/plain": [
              "<BarContainer object of 10 artists>"
            ]
          },
          "execution_count": 4,
          "metadata": {},
          "output_type": "execute_result"
        },
        {
          "data": {
            "image/png": "[encoded data removed]",
            "text/plain": [
              "<Figure size 432x288 with 1 Axes>"
            ]
          },
          "metadata": {
            "needs_background": "light"
          },
          "output_type": "display_data"
        }
      ],
      "source": [
        "plt.bar(np.unique(y, return_counts = True)[0], np.unique(y, return_counts = True)[1])"
      ]
    },
    {
      "cell_type": "markdown",
      "metadata": {
        "id": "KEc2na5f9tRg"
      },
      "source": [
        "Since it is clear that its maximum value is 255, the data can be normalized by dividing the whole value by 255."
      ]
    },
    {
      "cell_type": "code",
      "execution_count": 5,
      "metadata": {
        "id": "GzXvdYtlmNqi"
      },
      "outputs": [],
      "source": [
        "X_normalized = X / 255"
      ]
    },
    {
      "cell_type": "markdown",
      "metadata": {
        "id": "zmmuNtw2d8dX"
      },
      "source": [
        "Since `y`has string labels they are convered to integer form for later."
      ]
    },
    {
      "cell_type": "code",
      "execution_count": 6,
      "metadata": {
        "id": "vfx0EL0wmoyU"
      },
      "outputs": [],
      "source": [
        "y_integer = y.astype(int)"
      ]
    },
    {
      "cell_type": "markdown",
      "metadata": {
        "id": "TqeW4C00l5se"
      },
      "source": [
        "Next the dataset is split into two parts using scikit-learn's `train_test_split` method."
      ]
    },
    {
      "cell_type": "code",
      "execution_count": 7,
      "metadata": {
        "id": "SiERfT0gddu1"
      },
      "outputs": [],
      "source": [
        "X_train, X_test, y_train, y_test = train_test_split(X_normalized, y_integer, stratify=y_integer, test_size=10000, random_state=12345)"
      ]
    },
    {
      "cell_type": "markdown",
      "metadata": {
        "id": "EMldZza-faxL"
      },
      "source": [
        "Some of the instances can be seen below."
      ]
    },
    {
      "cell_type": "code",
      "execution_count": 8,
      "metadata": {
        "colab": {
          "base_uri": "https://localhost:8080/",
          "height": 224
        },
        "id": "TzRs98dodeAF",
        "outputId": "db4cca63-165d-48dd-e0f8-feed5dadfe93"
      },
      "outputs": [
        {
          "data": {
            "image/png": "[encoded data removed]",
            "text/plain": [
              "<Figure size 432x288 with 10 Axes>"
            ]
          },
          "metadata": {},
          "output_type": "display_data"
        }
      ],
      "source": [
        "fig, ax = plt.subplots(nrows=2, ncols=5, sharex=True, sharey=True)\n",
        "ax = ax.flatten()\n",
        "for i in range(10):\n",
        "  img = X_train[y_train == i][0].reshape(28, 28)\n",
        "  ax[i].imshow(img, cmap='Greys')\n",
        "ax[0].set_xticks([])\n",
        "ax[0].set_yticks([])\n",
        "plt.tight_layout()\n",
        "plt.show()"
      ]
    },
    {
      "cell_type": "markdown",
      "metadata": {
        "id": "baT1IBRFqrBJ"
      },
      "source": [
        "## 2. Helper functions"
      ]
    },
    {
      "cell_type": "markdown",
      "metadata": {
        "id": "tVROBu9_py1h"
      },
      "source": [
        "Since labels are in a sparse form, one-hot encoding for better computation using NumPy's vectorization is used."
      ]
    },
    {
      "cell_type": "code",
      "execution_count": 9,
      "metadata": {
        "id": "msvnKGsR0yUS"
      },
      "outputs": [],
      "source": [
        "def one_hot(y):\n",
        "  \"\"\"\n",
        "  Input:\n",
        "    - y : set of labels\n",
        "\n",
        "  Output:\n",
        "    - onehot: a one-hot-encoded array\n",
        "\n",
        "  This function creates an one-hot encoded representation of the labels.\n",
        "  This means that you will have a set of binary columns indicading each possible class.\n",
        "  \"\"\"\n",
        "\n",
        "  onehot = np.zeros((y.size, y.max() + 1))\n",
        "  onehot[np.arange(y.size), y] = 1\n",
        "  \n",
        "  return onehot\n"
      ]
    },
    {
      "cell_type": "markdown",
      "metadata": {
        "id": "5dAPaf1708Bs"
      },
      "source": [
        "The expected outcome of the one-hot encoding is as follows:"
      ]
    },
    {
      "cell_type": "code",
      "execution_count": 10,
      "metadata": {
        "colab": {
          "base_uri": "https://localhost:8080/"
        },
        "id": "sGFbZ_tN00WK",
        "outputId": "e6ecf8b1-4dd4-43ec-f123-138119075210"
      },
      "outputs": [
        {
          "data": {
            "text/plain": [
              "array([[0., 1., 0., 0.],\n",
              "       [1., 0., 0., 0.],\n",
              "       [0., 0., 1., 0.],\n",
              "       [0., 0., 0., 1.]])"
            ]
          },
          "execution_count": 10,
          "metadata": {},
          "output_type": "execute_result"
        }
      ],
      "source": [
        "one_hot(np.array([1,0,2,3]))"
      ]
    },
    {
      "cell_type": "markdown",
      "metadata": {
        "id": "7niKihIdpYa5"
      },
      "source": [
        "Next we may also need a sigmoid function for the output values as we are dealing with a classification problem. Sigmoid can be represented as follows:\n",
        "\n",
        "$$ h_ \\theta (x) =  \\frac{\\mathrm{1} }{\\mathrm{1} + e^{-x} }  $$ \n"
      ]
    },
    {
      "cell_type": "code",
      "execution_count": 11,
      "metadata": {
        "id": "hFSCiidT1Drz"
      },
      "outputs": [],
      "source": [
        "def sigmoid(x):\n",
        "  \"\"\"\n",
        "  Input:\n",
        "    - x: input vector or scalar value\n",
        "\n",
        "  Output:\n",
        "    - sigmoid: output sigmoid-transformed vector or scalar value\n",
        "  \"\"\"\n",
        "\n",
        "  sigmoid = 1 / (1 + np.exp(-x))\n",
        "\n",
        "  return sigmoid"
      ]
    },
    {
      "cell_type": "markdown",
      "metadata": {
        "id": "Xlugwi8r0O-H"
      },
      "source": [
        "The expected result of the sigmoid function is as follows:"
      ]
    },
    {
      "cell_type": "code",
      "execution_count": 12,
      "metadata": {
        "colab": {
          "base_uri": "https://localhost:8080/"
        },
        "id": "3fJNnW22qMQ0",
        "outputId": "99d2f408-d256-462c-aed0-7d68ea8feec7"
      },
      "outputs": [
        {
          "data": {
            "text/plain": [
              "array([1. , 0. , 0.5])"
            ]
          },
          "execution_count": 12,
          "metadata": {},
          "output_type": "execute_result"
        }
      ],
      "source": [
        "sigmoid(np.array([np.inf, -np.inf, 0]))"
      ]
    },
    {
      "cell_type": "markdown",
      "metadata": {
        "id": "dnfdCK6Fqtls"
      },
      "source": [
        "## 3. Our FCN classifier with the class structure"
      ]
    },
    {
      "cell_type": "markdown",
      "metadata": {
        "id": "Sn2YtPQk0pXK"
      },
      "source": [
        "This section will create a neural network model from scratch. We will eventually integrate everything into scikit-learn's pipeline, so it's important to have an appropriate class structure. To do this, you may need to extend `BaseEstimator` and `TransformerMixin` to make scikit-learn recognize that our class is a valid classifier.\n",
        "\n",
        "We are going to develop a neural network with one layer for simplicity. That means we will have two different sets of weights.\n",
        "\n",
        "- First layer: [input size (number of features), hidden layer size]\n",
        "- Second layer: [hidden layer size, output size (number of classes)]\n",
        "\n",
        "In our class structure `FullyConnectedNetwork`, we will develop five different methods as follows:\n",
        " - `compile`: Given parameters, we will initialize weight and bias values needed for our neural network model.\n",
        "   - Here, you will initialize bias and weights based on chosen initialization technique.\n",
        "        - We will have three different options: normal, Xavier, and he\n",
        "        - Each technique initializes the weight using the normal distribution but different standard deviation.\n",
        "          - Normal: \n",
        "$ \\mu = 0, \\sigma = 0.1 $\n",
        "          - Xavier: \n",
        "$ \\mu = 0, \\sigma = \\sqrt{\\frac{2}{n_{in} + n_{out}}}$\n",
        "          - He:\n",
        "$ \\mu = 0, \\sigma = \\sqrt{\\frac{2}{n_{in}}}$\n",
        " - `forward`: Perform a forward propagation\n",
        " - `back_propagation`: Perform a back propagation\n",
        "    - You will only need to finish some part of it.\n",
        "      - Weight and bias update\n",
        "      - Derivative of the sigmoid function\n",
        "        - $σ(x)=σ(x)(1−σ(x))$.\n",
        "\n",
        " - `fit`: Run the whole fitting process (forward and backpropagation for each batch)\n",
        " - `cost`: Calculate the cost (cross-entropy) together with the elastic net (l1/l2)\n",
        "   - cross-entropy loss can be calculated as follows:\n",
        " - `predict`: With a trained model, perform a prediction of unseen data by running the forward propagation with the trained weight and bias.\n",
        " - `evaluate`: With trained weight and bias, perform a prediction of test data and calculate the performance metric (in our case, those are training and validation accuracy scores).\n"
      ]
    },
    {
      "cell_type": "code",
      "execution_count": 13,
      "metadata": {
        "id": "UxEdUv9hmiTd"
      },
      "outputs": [],
      "source": [
        "class FullyConnectedNetwork(BaseEstimator, TransformerMixin):\n",
        "    def __init__(self, n_hidden=30, l2=0., l1=0., epochs=100, eta=0.001, validation_rate = 0.3,\n",
        "                 shuffle=True, batch_size=1, init_technique = \"normal\", seed=None, debug=True):\n",
        "\n",
        "        \"\"\"\n",
        "        Input:\n",
        "          - n_hidden: Number of hidden nodes.\n",
        "          - l2: Lambda value for L2-regularization.\n",
        "          - epochs: Number of passes over the training set.\n",
        "          - eta: Learning rate.\n",
        "          - shuffle: Enabling shuffling option of the dataset every epoch.\n",
        "          - batch_size: Number of training examples per batch.\n",
        "          - seed: Random seed for initializing weights and shuffling.\n",
        "        \"\"\"\n",
        "        self.seed = seed\n",
        "        self.random = np.random.RandomState(self.seed)\n",
        "        self.n_hidden = n_hidden\n",
        "        self.l2 = l2\n",
        "        self.l1 = l1\n",
        "        self.epochs = epochs\n",
        "        self.eta = eta\n",
        "        self.validation_rate = validation_rate\n",
        "        self.shuffle = shuffle\n",
        "        self.batch_size = batch_size\n",
        "        self.debug = debug\n",
        "        self.init_technique = init_technique\n",
        "\n",
        "    def compile(self, n_features, n_outputs):\n",
        "        \"\"\"\n",
        "        Initializing the weights of the model\n",
        "\n",
        "        - Here you will initialize bias and weights based on chosen initialization technique.\n",
        "        - We will have three different options: normal, xavier, and he\n",
        "        - Each technique initializes the weight using the normal distribution but different standard deviation.\n",
        "        - Use self.init_technique to check the chosen technique and use self.random to perform the sampling.\n",
        "\n",
        "        Input:\n",
        "          - n_features: input size of the network\n",
        "          - n_outputs: output size of the network\n",
        "          - Unit size of the layer is given as self.n_hidden\n",
        "        \"\"\"\n",
        "\n",
        "        self.B = []\n",
        "        self.W = []\n",
        "\n",
        "        # Creating weights and bias for input -> hidden\n",
        "        # Use specific initialization techniques for weights\n",
        "        # Weights should have the size (n_features, self.n_hidden)\n",
        "        # Use np.zeros for bias with the size 'self.n_hidden'\n",
        "\n",
        "        b_h = np.zeros((self.n_hidden))\n",
        "        w_h = np.ones((n_features, self.n_hidden))\n",
        "        #normal\n",
        "        if self.init_technique == \"normal\":\n",
        "          w_h = self.random.normal(loc=0.0, scale=0.1,size=(n_features, self.n_hidden))\n",
        "        #xavier\n",
        "        elif self.init_technique == \"xavier\":\n",
        "          xavier = np.sqrt(2 / (n_features + self.n_hidden))\n",
        "          w_h = self.random.normal(loc=0.0, scale=xavier,size=(n_features, self.n_hidden))\n",
        "        #he\n",
        "        elif self.init_technique == \"he\":\n",
        "          he = np.sqrt(2 / n_features)\n",
        "          w_h = self.random.normal(loc=0.0, scale=he,size=(n_features, self.n_hidden))\n",
        "        #error\n",
        "        else:\n",
        "          raise ValueError(\"Initialization not supported\")\n",
        "        # Append bias to self.B and weights to self.W\n",
        "        self.B.append(b_h)\n",
        "        self.W.append(w_h)\n",
        "\n",
        "        # Creating weights and bias for hidden -> output\n",
        "        # Use specific initialization techniques for weights\n",
        "        # Weights should have the size (self.n_hidden, n_outputs)\n",
        "        # Use np.zeros for bias with the size 'n_outputs'\n",
        "\n",
        "        b_out = np.zeros((n_outputs))\n",
        "        w_out = np.ones((self.n_hidden, n_outputs))\n",
        "        #normal\n",
        "        if self.init_technique == \"normal\":\n",
        "          w_out = self.random.normal(loc=0.0, scale=0.1,size=(self.n_hidden, n_outputs))\n",
        "        #xavier\n",
        "        elif self.init_technique == \"xavier\":\n",
        "          xavier = np.sqrt(2 / (self.n_hidden + n_outputs))\n",
        "          w_out = self.random.normal(loc=0.0, scale=xavier,size=(self.n_hidden, n_outputs))\n",
        "        #he\n",
        "        elif self.init_technique == \"he\":\n",
        "          he = np.sqrt(2 / self.n_hidden)\n",
        "          w_out = self.random.normal(loc=0.0, scale=he,size=(self.n_hidden, n_outputs))\n",
        "        #error\n",
        "        else:\n",
        "          raise ValueError(\"Initialization not supported\")\n",
        "        # Append bias to self.B and weights to self.W\n",
        "        self.B.append(b_out)\n",
        "        self.W.append(w_out)\n",
        "        \n",
        "\n",
        "    def forward(self, X):\n",
        "        \"\"\"\n",
        "        Given the dataset X, compute forward propagation step with the weights and bias saved in the list.\n",
        "        This process eventually outputs ten numbers in our case as we have ten outputs.\n",
        "        Forward propagation is performed by multiple chained dot products of inputs and weights.\n",
        "        \n",
        "        Input:\n",
        "          - X: features\n",
        "        \n",
        "        Output:\n",
        "          - Z: Result of dot product of the weights and the previous output for each phase\n",
        "          - A: A list that contains sigmoided values of A\n",
        "        \"\"\"\n",
        "\n",
        "        Z = []\n",
        "        A = []\n",
        "\n",
        "        # net input of hidden layer\n",
        "        # - take a dot product of the input features and the initial weights\n",
        "        # - add the outcome to list Z\n",
        "        Z.append(np.dot(X, self.W[0]) + self.B[0])\n",
        "\n",
        "        # activation of hidden layer\n",
        "        # - apply the sigmoid function to the dot producted outcome\n",
        "        # - add the outcome to list A\n",
        "        A.append(sigmoid(Z[0]))\n",
        "\n",
        "        # net input of output layer\n",
        "        # - take a dot product of the intermediate features and the weights of the output layer\n",
        "        # - add the outcome to list Z\n",
        "        Z.append(np.dot(A[0], self.W[1]) + self.B[1])\n",
        "\n",
        "        # activation output layer\n",
        "        # - apply the sigmoid function to the dot producted outcome\n",
        "        # - add the outcome to list A\n",
        "        A.append(sigmoid(Z[1]))\n",
        "\n",
        "        return Z, A\n",
        "\n",
        "    def predict(self, X):\n",
        "        \"\"\"\n",
        "        \n",
        "        Predict class labels by performing forward propagation.\n",
        "\n",
        "        Input: \n",
        "          - X: feature matrix\n",
        "        Output:\n",
        "          - y_pred: Predicted class labels for all data instances.\n",
        "        \"\"\"\n",
        "\n",
        "        # Run forward proparation on X and get Z, a.\n",
        "        Z, A = self.forward(X)\n",
        "        # Calculate y_pred by using the output (A[-1]) and with np.argmax - You have to choose the index of the one with the highest value\n",
        "        y_pred = np.argmax(A[-1], axis=1)\n",
        "\n",
        "        return y_pred\n",
        "\n",
        "    def cost(self, y_truth, y_pred):\n",
        "        \"\"\"\n",
        "        \n",
        "        This function computes the cost for the classification task.\n",
        "        We will also apply Elastic net (combination of l1 and l2)\n",
        "\n",
        "        Input:\n",
        "          - y_truth: \"one-hot encoded\" class labels.\n",
        "          - y_pred: Activation of the output layer (= output of the forward propagation function)\n",
        "          - the weights for l1 and l2 are saved into self.l1 and self.l2\n",
        "        \n",
        "        Output:\n",
        "          - cost: Regularized cost\n",
        "        \"\"\"\n",
        "\n",
        "        # Calculate the cross entropy between the truth and predicted values.\n",
        "        cross_entropy = np.sum((-y_truth * np.log(y_pred)) - ((1 - y_truth) * np.log(1 - y_pred)))\n",
        "        (- np.sum(y_truth * np.log(y_pred))) / float(y_pred.shape[0])\n",
        "        # Add l1 and l2 terms to the cost.\n",
        "        #    - L1 term is the sum of absolute weight values\n",
        "        #    - L2 term is the sum of squared weight values\n",
        "        #    - You should multiply l1 and l2 ratio saved in self.l1 and self.l2\n",
        "        #    - You should NOT include weights that belong to the bias values.\n",
        "        l1 = self.l1 * (np.sum(np.absolute(self.W[0])) + np.sum(np.absolute(self.W[1])))\n",
        "        l2 = self.l2 * (np.sum(np.square(self.W[0])) + np.sum(np.square(self.W[1])))\n",
        "        # Return the total cost (cross entropy + L1 term + L2 term).\n",
        "        cost = cross_entropy + l1 + l2\n",
        "        \n",
        "        return cost\n",
        "\n",
        "    \n",
        "\n",
        "    def back_propagation(self, X_train, batch_idx, A, y_truth):\n",
        "      \"\"\"\n",
        "      Perform back propagation based on the result of forward propagation and true labels (for each batch).\n",
        "\n",
        "      Input:\n",
        "        X_train: training features\n",
        "        batch_idx: the current batch indices from the fit function\n",
        "        A: Sigmoided output values - the result of forward propagation\n",
        "        y_truth: One-hot encoded true labels\n",
        "\n",
        "      Output:\n",
        "        None\n",
        "        You should update the weights and biases in self.W/self.B\n",
        "\n",
        "      To get more information about the backpropagation process: \n",
        "           https://towardsdatascience.com/deriving-backpropagation-with-cross-entropy-loss-d24811edeaf9 ****\n",
        "      \"\"\"\n",
        "\n",
        "      # OUTPUT WEIGHTS (LAYER-OUTPUT)\n",
        "\n",
        "      # δC/δA * δA/δZ\n",
        "      delta_out = A[-1] - y_truth[batch_idx]\n",
        "      # δC/δA * δA/δZ * δZ/δW\n",
        "      grad_w_out = np.dot(A[0].T, delta_out)\n",
        "      # δC/δA * δA/δZ * δZ/δB\n",
        "      grad_b_out = np.sum(delta_out, axis=0)\n",
        "\n",
        "      # Using the final gradients of the weight and bias (grad_w_out, grad_b_out), we need to update\n",
        "      delta_w_out = grad_w_out + (self.l1 * self.W[1]) + (self.l2 * self.W[1])\n",
        "      delta_b_out = grad_b_out\n",
        "      self.W[1] -= self.eta * delta_w_out\n",
        "      self.B[1] -= self.eta * delta_b_out\n",
        "\n",
        "      #############################################\n",
        "      \n",
        "      # HIDDEN WEIGHTS (INPUT-LAYER)\n",
        "\n",
        "      #############################################\n",
        "\n",
        "      # To continue to take derivatives backwards, we need to be able to take a derivative of the sigmoid function.\n",
        "      # Here we are trying to take derivative of a sigmoided output A[0].\n",
        "      # Derivative of sigmoid σ(x) can be represented as σ(x)(1−σ(x)).\n",
        "      \n",
        "      sigmoid_derivative_h = A[0] * (1 - A[0])\n",
        "\n",
        "      delta_h = (np.dot(delta_out, self.W[1].T) * sigmoid_derivative_h)\n",
        "      grad_w_h = np.dot(X_train[batch_idx].T, delta_h)\n",
        "      grad_b_h = np.sum(delta_h, axis=0)\n",
        "\n",
        "      # Using the final gradients of the weight and bias (grad_w_h, grad_b_h), we need to update\n",
        "\n",
        "      delta_w_h = grad_w_h + (self.l2 * self.W[0]) + (self.l2 * self.W[0])\n",
        "      delta_b_h = grad_b_h\n",
        "      \n",
        "      self.W[0] -= self.eta * delta_w_h\n",
        "      self.B[0] -= self.eta * delta_b_h\n",
        "\n",
        "    \n",
        "    def evaluate(self, epoch, X_train, X_valid, y_train, y_valid):\n",
        "      \"\"\"\n",
        "      Evaluate performances on the training and validation sets per epoch\n",
        "      \n",
        "      Input:\n",
        "        - epoch: current epoch number\n",
        "        - X_train: training features\n",
        "        - X_valid: validation features\n",
        "        - y_train: training labels\n",
        "        - y_valid: validation labels\n",
        "\n",
        "      Output:\n",
        "        - None\n",
        "      \"\"\"\n",
        "\n",
        "      # Call self.forward on X_train to calculate the output with current weights and bias of the model\n",
        "      Z, A = self.forward(X_train)\n",
        "\n",
        "      # call predict functions with both X_train and X_valid and save the predicted values accordingly\n",
        "      y_train_pred = self.predict(X_train)\n",
        "      y_valid_pred = self.predict(X_valid)\n",
        "\n",
        "      # Call self.cost with y_train and y_train_pred\n",
        "      # save it into the variable 'cost'\n",
        "      cost = self.cost(one_hot(y_train), A[1])\n",
        "\n",
        "      # Calculate accuracy scores \n",
        "      # - between y_train_pred and y_train\n",
        "      # - between y_valid_pred and y_valid\n",
        "      train_acc = np.sum(y_train_pred == y_train).astype(np.float) / X_train.shape[0]\n",
        "      valid_acc = np.sum(y_valid_pred == y_valid).astype(np.float) / X_valid.shape[0]\n",
        "\n",
        "      # Save the results into the dictionary\n",
        "      if self.debug == True:\n",
        "        print('%d/%d | Cost: %.2f '\n",
        "                        '| Train/Valid Acc.: %.2f%%/%.2f%% ' %\n",
        "                        (epoch+1, self.epochs, cost,\n",
        "                          train_acc*100, valid_acc*100))\n",
        "\n",
        "      self.history['cost'].append(cost)\n",
        "      self.history['train_acc'].append(train_acc)\n",
        "      self.history['valid_acc'].append(valid_acc)\n",
        "\n",
        "    \n",
        "    def fit(self, X, y):\n",
        "        \"\"\" \n",
        "        Learn weights from training data.\n",
        "\n",
        "        Input\n",
        "          - X: features (training+validation)\n",
        "          - y: labels\n",
        "\n",
        "        Output\n",
        "          - self.history: information about cost and accuracy scores\n",
        "\n",
        "        \"\"\"\n",
        "\n",
        "        self.history = {'cost': [], 'train_acc': [], 'valid_acc': []}\n",
        "\n",
        "        # Select different training and test sets. Use scikit-learn's train_test_split.\n",
        "        # Turn on the stratification option and use self.validation_rate\n",
        "        X_train, X_valid, y_train, y_valid = train_test_split(X, y, stratify=y, test_size=self.validation_rate, random_state=self.seed)\n",
        "\n",
        "        #  Compile (initialize) the parameters by running self.compile with correct number of features and outputs\n",
        "        self.compile(X_train.shape[1], len(np.unique(y_train)))\n",
        "\n",
        "        # Prepare one-hot encoded training labels by using one_hot function on y_train\n",
        "        y_train_enc = one_hot(y_train)\n",
        "\n",
        "        # iterate over training epochs\n",
        "        for i in range(self.epochs):\n",
        "\n",
        "            # set the indices\n",
        "            # - if self.shuffle is True, shuffle the indices using self.random.shuffle or permutation\n",
        "            indices = np.arange(len(X_train))\n",
        "            if self.shuffle:\n",
        "              self.random.permutation(len(X_train))\n",
        "\n",
        "            # iterate over the data\n",
        "            # - For each iteration choose the data \n",
        "            for start_idx in range(0, indices.shape[0] - self.batch_size +\n",
        "                                   1, self.batch_size):\n",
        "                batch_idx = indices[start_idx:start_idx + self.batch_size]\n",
        "                # Run a forward propagation\n",
        "                Z, A = self.forward(X_train[batch_idx])\n",
        "                # Run back propagation \n",
        "                # - Use X_train, batch_idx, A, and y_train_enc\n",
        "                self.back_propagation(X_train, batch_idx, A, y_train_enc)\n",
        "\n",
        "            # call evaluate function after inner loop (whole batch cycles) is complete\n",
        "            self.evaluate(i, X_train, X_valid, y_train, y_valid)\n",
        "\n",
        "        # After all loops are complete, return self.history\n",
        "        return self.history\n",
        "\n",
        "    def transform(self, X, y=None):\n",
        "      return self.history\n",
        "    \n",
        "    def score(self, X, y=None):\n",
        "\n",
        "      y_pred = self.predict(X)\n",
        "      acc = np.sum(y == y_pred) / X.shape[0]\n",
        "      return acc"
      ]
    },
    {
      "cell_type": "markdown",
      "metadata": {
        "id": "4QAzKAjhhwHu"
      },
      "source": [
        "Create a new instance"
      ]
    },
    {
      "cell_type": "code",
      "execution_count": 14,
      "metadata": {
        "id": "pEkq3fydrmVw"
      },
      "outputs": [],
      "source": [
        "nn = FullyConnectedNetwork(n_hidden=100, l2=0.01, epochs=100, eta=0.0005, batch_size=100, shuffle=True, seed=12345)"
      ]
    },
    {
      "cell_type": "markdown",
      "metadata": {
        "id": "IXBBoj_oh5Vt"
      },
      "source": [
        "We will try to run 100 epochs\n",
        " - Train the network on `X_train` and `y_train` and save the output to `history`."
      ]
    },
    {
      "cell_type": "code",
      "execution_count": 15,
      "metadata": {
        "colab": {
          "base_uri": "https://localhost:8080/"
        },
        "id": "uSKfzn3czNrU",
        "outputId": "fabe5695-7345-49ed-bcd1-a101cafe6385"
      },
      "outputs": [
        {
          "name": "stdout",
          "output_type": "stream",
          "text": [
            "1/100 | Cost: 71808.55 | Train/Valid Acc.: 77.70%/78.25% \n",
            "2/100 | Cost: 51935.61 | Train/Valid Acc.: 84.31%/84.64% \n",
            "3/100 | Cost: 42962.07 | Train/Valid Acc.: 87.00%/86.96% \n",
            "4/100 | Cost: 37745.88 | Train/Valid Acc.: 88.34%/88.16% \n",
            "5/100 | Cost: 34391.94 | Train/Valid Acc.: 89.11%/88.98% \n",
            "6/100 | Cost: 32059.90 | Train/Valid Acc.: 89.65%/89.54% \n",
            "7/100 | Cost: 30320.90 | Train/Valid Acc.: 90.05%/89.89% \n",
            "8/100 | Cost: 28949.60 | Train/Valid Acc.: 90.40%/90.20% \n",
            "9/100 | Cost: 27821.26 | Train/Valid Acc.: 90.71%/90.51% \n",
            "10/100 | Cost: 26862.35 | Train/Valid Acc.: 90.98%/90.81% \n",
            "11/100 | Cost: 26026.98 | Train/Valid Acc.: 91.27%/91.05% \n",
            "12/100 | Cost: 25285.17 | Train/Valid Acc.: 91.51%/91.24% \n",
            "13/100 | Cost: 24616.55 | Train/Valid Acc.: 91.71%/91.43% \n",
            "14/100 | Cost: 24006.83 | Train/Valid Acc.: 91.90%/91.66% \n",
            "15/100 | Cost: 23445.72 | Train/Valid Acc.: 92.13%/91.82% \n",
            "16/100 | Cost: 22925.55 | Train/Valid Acc.: 92.30%/92.01% \n",
            "17/100 | Cost: 22440.51 | Train/Valid Acc.: 92.42%/92.13% \n",
            "18/100 | Cost: 21986.03 | Train/Valid Acc.: 92.60%/92.28% \n",
            "19/100 | Cost: 21558.48 | Train/Valid Acc.: 92.79%/92.41% \n",
            "20/100 | Cost: 21154.87 | Train/Valid Acc.: 92.95%/92.51% \n",
            "21/100 | Cost: 20772.74 | Train/Valid Acc.: 93.08%/92.64% \n",
            "22/100 | Cost: 20410.01 | Train/Valid Acc.: 93.18%/92.78% \n",
            "23/100 | Cost: 20064.92 | Train/Valid Acc.: 93.32%/92.91% \n",
            "24/100 | Cost: 19735.93 | Train/Valid Acc.: 93.41%/93.02% \n",
            "25/100 | Cost: 19421.71 | Train/Valid Acc.: 93.50%/93.13% \n",
            "26/100 | Cost: 19121.09 | Train/Valid Acc.: 93.58%/93.24% \n",
            "27/100 | Cost: 18833.03 | Train/Valid Acc.: 93.67%/93.36% \n",
            "28/100 | Cost: 18556.61 | Train/Valid Acc.: 93.79%/93.47% \n",
            "29/100 | Cost: 18291.00 | Train/Valid Acc.: 93.86%/93.57% \n",
            "30/100 | Cost: 18035.45 | Train/Valid Acc.: 93.96%/93.64% \n",
            "31/100 | Cost: 17789.29 | Train/Valid Acc.: 94.06%/93.69% \n",
            "32/100 | Cost: 17551.91 | Train/Valid Acc.: 94.14%/93.75% \n",
            "33/100 | Cost: 17322.75 | Train/Valid Acc.: 94.24%/93.82% \n",
            "34/100 | Cost: 17101.31 | Train/Valid Acc.: 94.32%/93.88% \n",
            "35/100 | Cost: 16887.14 | Train/Valid Acc.: 94.40%/93.89% \n",
            "36/100 | Cost: 16679.82 | Train/Valid Acc.: 94.49%/93.97% \n",
            "37/100 | Cost: 16478.97 | Train/Valid Acc.: 94.56%/94.04% \n",
            "38/100 | Cost: 16284.25 | Train/Valid Acc.: 94.62%/94.08% \n",
            "39/100 | Cost: 16095.33 | Train/Valid Acc.: 94.69%/94.16% \n",
            "40/100 | Cost: 15911.94 | Train/Valid Acc.: 94.77%/94.21% \n",
            "41/100 | Cost: 15733.79 | Train/Valid Acc.: 94.84%/94.26% \n",
            "42/100 | Cost: 15560.66 | Train/Valid Acc.: 94.87%/94.30% \n",
            "43/100 | Cost: 15392.31 | Train/Valid Acc.: 94.91%/94.32% \n",
            "44/100 | Cost: 15228.54 | Train/Valid Acc.: 94.98%/94.37% \n",
            "45/100 | Cost: 15069.15 | Train/Valid Acc.: 95.06%/94.38% \n",
            "46/100 | Cost: 14913.96 | Train/Valid Acc.: 95.10%/94.43% \n",
            "47/100 | Cost: 14762.80 | Train/Valid Acc.: 95.16%/94.50% \n",
            "48/100 | Cost: 14615.51 | Train/Valid Acc.: 95.23%/94.52% \n",
            "49/100 | Cost: 14471.95 | Train/Valid Acc.: 95.29%/94.57% \n",
            "50/100 | Cost: 14331.97 | Train/Valid Acc.: 95.33%/94.62% \n",
            "51/100 | Cost: 14195.44 | Train/Valid Acc.: 95.40%/94.68% \n",
            "52/100 | Cost: 14062.24 | Train/Valid Acc.: 95.44%/94.73% \n",
            "53/100 | Cost: 13932.23 | Train/Valid Acc.: 95.50%/94.76% \n",
            "54/100 | Cost: 13805.32 | Train/Valid Acc.: 95.55%/94.77% \n",
            "55/100 | Cost: 13681.39 | Train/Valid Acc.: 95.59%/94.83% \n",
            "56/100 | Cost: 13560.33 | Train/Valid Acc.: 95.62%/94.89% \n",
            "57/100 | Cost: 13442.05 | Train/Valid Acc.: 95.66%/94.92% \n",
            "58/100 | Cost: 13326.46 | Train/Valid Acc.: 95.70%/94.96% \n",
            "59/100 | Cost: 13213.46 | Train/Valid Acc.: 95.75%/95.01% \n",
            "60/100 | Cost: 13102.96 | Train/Valid Acc.: 95.80%/95.06% \n",
            "61/100 | Cost: 12994.89 | Train/Valid Acc.: 95.83%/95.07% \n",
            "62/100 | Cost: 12889.16 | Train/Valid Acc.: 95.85%/95.12% \n",
            "63/100 | Cost: 12785.70 | Train/Valid Acc.: 95.89%/95.16% \n",
            "64/100 | Cost: 12684.43 | Train/Valid Acc.: 95.95%/95.16% \n",
            "65/100 | Cost: 12585.28 | Train/Valid Acc.: 95.99%/95.22% \n",
            "66/100 | Cost: 12488.19 | Train/Valid Acc.: 96.02%/95.26% \n",
            "67/100 | Cost: 12393.08 | Train/Valid Acc.: 96.08%/95.29% \n",
            "68/100 | Cost: 12299.90 | Train/Valid Acc.: 96.12%/95.32% \n",
            "69/100 | Cost: 12208.59 | Train/Valid Acc.: 96.16%/95.36% \n",
            "70/100 | Cost: 12119.09 | Train/Valid Acc.: 96.19%/95.41% \n",
            "71/100 | Cost: 12031.34 | Train/Valid Acc.: 96.22%/95.43% \n",
            "72/100 | Cost: 11945.29 | Train/Valid Acc.: 96.24%/95.49% \n",
            "73/100 | Cost: 11860.89 | Train/Valid Acc.: 96.28%/95.53% \n",
            "74/100 | Cost: 11778.09 | Train/Valid Acc.: 96.30%/95.57% \n",
            "75/100 | Cost: 11696.84 | Train/Valid Acc.: 96.33%/95.60% \n",
            "76/100 | Cost: 11617.10 | Train/Valid Acc.: 96.36%/95.62% \n",
            "77/100 | Cost: 11538.81 | Train/Valid Acc.: 96.40%/95.66% \n",
            "78/100 | Cost: 11461.95 | Train/Valid Acc.: 96.42%/95.67% \n",
            "79/100 | Cost: 11386.47 | Train/Valid Acc.: 96.44%/95.71% \n",
            "80/100 | Cost: 11312.32 | Train/Valid Acc.: 96.47%/95.75% \n",
            "81/100 | Cost: 11239.48 | Train/Valid Acc.: 96.49%/95.76% \n",
            "82/100 | Cost: 11167.90 | Train/Valid Acc.: 96.52%/95.78% \n",
            "83/100 | Cost: 11097.55 | Train/Valid Acc.: 96.55%/95.80% \n",
            "84/100 | Cost: 11028.40 | Train/Valid Acc.: 96.60%/95.82% \n",
            "85/100 | Cost: 10960.42 | Train/Valid Acc.: 96.63%/95.87% \n",
            "86/100 | Cost: 10893.57 | Train/Valid Acc.: 96.65%/95.90% \n",
            "87/100 | Cost: 10827.82 | Train/Valid Acc.: 96.68%/95.93% \n",
            "88/100 | Cost: 10763.15 | Train/Valid Acc.: 96.70%/95.93% \n",
            "89/100 | Cost: 10699.52 | Train/Valid Acc.: 96.72%/95.94% \n",
            "90/100 | Cost: 10636.92 | Train/Valid Acc.: 96.74%/95.95% \n",
            "91/100 | Cost: 10575.31 | Train/Valid Acc.: 96.78%/95.95% \n",
            "92/100 | Cost: 10514.67 | Train/Valid Acc.: 96.80%/95.96% \n",
            "93/100 | Cost: 10454.97 | Train/Valid Acc.: 96.83%/95.98% \n",
            "94/100 | Cost: 10396.20 | Train/Valid Acc.: 96.85%/96.01% \n",
            "95/100 | Cost: 10338.33 | Train/Valid Acc.: 96.87%/96.02% \n",
            "96/100 | Cost: 10281.33 | Train/Valid Acc.: 96.88%/96.04% \n",
            "97/100 | Cost: 10225.19 | Train/Valid Acc.: 96.91%/96.07% \n",
            "98/100 | Cost: 10169.90 | Train/Valid Acc.: 96.93%/96.08% \n",
            "99/100 | Cost: 10115.41 | Train/Valid Acc.: 96.95%/96.09% \n",
            "100/100 | Cost: 10061.73 | Train/Valid Acc.: 96.97%/96.11% \n"
          ]
        }
      ],
      "source": [
        "history = nn.fit(X_train, y_train)"
      ]
    },
    {
      "cell_type": "markdown",
      "metadata": {
        "id": "EGuc6mti3lIp"
      },
      "source": [
        "Plot of the training and validation accuracy scores over time using the `history` dictionary returned by the fit function."
      ]
    },
    {
      "cell_type": "code",
      "execution_count": 16,
      "metadata": {
        "colab": {
          "base_uri": "https://localhost:8080/",
          "height": 265
        },
        "id": "n79B9p-OzPIA",
        "outputId": "b18e2d48-ae48-4773-c453-a186b421c922"
      },
      "outputs": [
        {
          "data": {
            "image/png": "[encoded data removed]",
            "text/plain": [
              "<Figure size 432x288 with 1 Axes>"
            ]
          },
          "metadata": {
            "needs_background": "light"
          },
          "output_type": "display_data"
        }
      ],
      "source": [
        "plt.plot(history['train_acc'])\n",
        "plt.plot(history['valid_acc'])\n",
        "plt.show()"
      ]
    },
    {
      "cell_type": "markdown",
      "metadata": {
        "id": "rPA_LeMzqyFc"
      },
      "source": [
        "## 4. Integrate classifier into the scikit-learn pipeline and the randomized search"
      ]
    },
    {
      "cell_type": "markdown",
      "metadata": {
        "id": "SP7V3OjInmQM"
      },
      "source": [
        "This time, everything is integrated from the raw dataset to the performance metrics into scikit-learn pipeline. "
      ]
    },
    {
      "cell_type": "code",
      "execution_count": 17,
      "metadata": {
        "colab": {
          "base_uri": "https://localhost:8080/"
        },
        "id": "7KQyD1cf1Na8",
        "outputId": "2acf0ebc-a7d2-4fcf-a40c-8e3b3d92e662"
      },
      "outputs": [
        {
          "name": "stdout",
          "output_type": "stream",
          "text": [
            "1/10 | Cost: 71035.69 | Train/Valid Acc.: 79.80%/79.46% \n",
            "2/10 | Cost: 46622.60 | Train/Valid Acc.: 86.61%/86.73% \n",
            "3/10 | Cost: 37223.53 | Train/Valid Acc.: 88.65%/88.83% \n",
            "4/10 | Cost: 32299.40 | Train/Valid Acc.: 89.58%/89.82% \n",
            "5/10 | Cost: 29307.39 | Train/Valid Acc.: 90.23%/90.37% \n",
            "6/10 | Cost: 27264.55 | Train/Valid Acc.: 90.76%/90.93% \n",
            "7/10 | Cost: 25745.39 | Train/Valid Acc.: 91.19%/91.33% \n",
            "8/10 | Cost: 24546.40 | Train/Valid Acc.: 91.48%/91.74% \n",
            "9/10 | Cost: 23561.12 | Train/Valid Acc.: 91.79%/92.02% \n",
            "10/10 | Cost: 22729.33 | Train/Valid Acc.: 92.04%/92.26% \n"
          ]
        }
      ],
      "source": [
        "# Normalizer class that extends BaseEstimator and TransformerMixin.\n",
        "#   - Normalizer: To make the features have the range [0, 1] and also center the points to zero by subtracting 0.5 from the values\n",
        "#     using NumPy's broadcasting to calculate (X / 255) - 0.5.\n",
        "class Normalizer(BaseEstimator, TransformerMixin):\n",
        "    def fit(self, X, y):\n",
        "      return self\n",
        "\n",
        "    def transform(self, X):\n",
        "      return (X / 255) - 0.5\n",
        "\n",
        "# Pipeline that integrates both normalizer and neural network classifier.\n",
        "pipe = Pipeline([('normalizer', Normalizer()), ('classifier', FullyConnectedNetwork(epochs=10))])\n",
        "\n",
        "# Fit pipeline on the datasets (`X_train`, `y_train`).\n",
        "X_train, X_test, y_train, y_test = train_test_split(X, y_integer, stratify=y_integer, train_size=60000, test_size=10000, random_state=12345)\n",
        "pipe = pipe.fit(X_train, y_train)"
      ]
    },
    {
      "cell_type": "code",
      "execution_count": 18,
      "metadata": {
        "colab": {
          "base_uri": "https://localhost:8080/"
        },
        "id": "tQRQASa5bz89",
        "outputId": "11e1353f-5cf5-4dfb-ada6-40605adbcb14"
      },
      "outputs": [
        {
          "name": "stdout",
          "output_type": "stream",
          "text": [
            "0.9114\n"
          ]
        }
      ],
      "source": [
        "# Score\n",
        "pipeline_score = pipe.score(X_test, y_test)\n",
        "print(pipeline_score)"
      ]
    },
    {
      "cell_type": "markdown",
      "metadata": {
        "id": "nMdqSR8k4hRI"
      },
      "source": [
        "- Task 4: Randomized search\n",
        "  - After constructing your pipeline, we will perform a randomized search on it."
      ]
    },
    {
      "cell_type": "code",
      "execution_count": 19,
      "metadata": {
        "colab": {
          "base_uri": "https://localhost:8080/"
        },
        "id": "rysn4lmhmpBb",
        "outputId": "232da438-afda-448e-d19f-e771a78ba585"
      },
      "outputs": [
        {
          "name": "stdout",
          "output_type": "stream",
          "text": [
            "1/10 | Cost: 90956.73 | Train/Valid Acc.: 10.02%/10.04% \n",
            "2/10 | Cost: 91182.39 | Train/Valid Acc.: 9.79%/9.78% \n",
            "3/10 | Cost: 91172.96 | Train/Valid Acc.: 9.79%/9.78% \n",
            "4/10 | Cost: 91140.62 | Train/Valid Acc.: 9.79%/9.78% \n",
            "5/10 | Cost: 91109.37 | Train/Valid Acc.: 9.79%/9.78% \n",
            "6/10 | Cost: 91083.10 | Train/Valid Acc.: 9.79%/9.78% \n",
            "7/10 | Cost: 91062.56 | Train/Valid Acc.: 9.79%/9.78% \n",
            "8/10 | Cost: 91047.54 | Train/Valid Acc.: 9.79%/9.78% \n",
            "9/10 | Cost: 91037.25 | Train/Valid Acc.: 9.79%/9.78% \n",
            "10/10 | Cost: 91030.62 | Train/Valid Acc.: 9.80%/9.81% \n",
            "1/10 | Cost: 90723.90 | Train/Valid Acc.: 11.32%/11.32% \n",
            "2/10 | Cost: 91082.14 | Train/Valid Acc.: 11.32%/11.32% \n",
            "3/10 | Cost: 91100.38 | Train/Valid Acc.: 11.32%/11.32% \n",
            "4/10 | Cost: 91075.25 | Train/Valid Acc.: 11.32%/11.32% \n",
            "5/10 | Cost: 91046.66 | Train/Valid Acc.: 11.32%/11.32% \n",
            "6/10 | Cost: 91022.23 | Train/Valid Acc.: 11.32%/11.32% \n",
            "7/10 | Cost: 91003.43 | Train/Valid Acc.: 11.32%/11.32% \n",
            "8/10 | Cost: 90990.09 | Train/Valid Acc.: 11.32%/11.32% \n",
            "9/10 | Cost: 90981.36 | Train/Valid Acc.: 11.32%/11.32% \n",
            "10/10 | Cost: 90976.14 | Train/Valid Acc.: 11.32%/11.32% \n",
            "1/10 | Cost: 90621.33 | Train/Valid Acc.: 17.92%/17.89% \n",
            "2/10 | Cost: 91047.51 | Train/Valid Acc.: 11.27%/11.27% \n",
            "3/10 | Cost: 91087.14 | Train/Valid Acc.: 11.27%/11.27% \n",
            "4/10 | Cost: 91068.56 | Train/Valid Acc.: 11.27%/11.27% \n",
            "5/10 | Cost: 91043.89 | Train/Valid Acc.: 11.27%/11.27% \n",
            "6/10 | Cost: 91022.29 | Train/Valid Acc.: 11.27%/11.27% \n",
            "7/10 | Cost: 91005.39 | Train/Valid Acc.: 11.27%/11.27% \n",
            "8/10 | Cost: 90993.15 | Train/Valid Acc.: 11.27%/11.27% \n",
            "9/10 | Cost: 90984.90 | Train/Valid Acc.: 11.27%/11.27% \n",
            "10/10 | Cost: 90979.72 | Train/Valid Acc.: 11.27%/11.27% \n",
            "1/10 | Cost: 67933.63 | Train/Valid Acc.: 67.85%/67.20% \n",
            "2/10 | Cost: 59237.56 | Train/Valid Acc.: 75.90%/75.42% \n",
            "3/10 | Cost: 54854.36 | Train/Valid Acc.: 79.23%/79.12% \n",
            "4/10 | Cost: 52069.01 | Train/Valid Acc.: 80.87%/80.91% \n",
            "5/10 | Cost: 50114.73 | Train/Valid Acc.: 82.09%/82.00% \n",
            "6/10 | Cost: 48651.54 | Train/Valid Acc.: 82.96%/82.78% \n",
            "7/10 | Cost: 47507.00 | Train/Valid Acc.: 83.68%/83.62% \n",
            "8/10 | Cost: 46580.18 | Train/Valid Acc.: 84.27%/84.28% \n",
            "9/10 | Cost: 45809.45 | Train/Valid Acc.: 84.70%/84.64% \n",
            "10/10 | Cost: 45155.40 | Train/Valid Acc.: 85.09%/85.06% \n",
            "1/10 | Cost: 68041.10 | Train/Valid Acc.: 70.58%/70.44% \n",
            "2/10 | Cost: 59609.71 | Train/Valid Acc.: 77.13%/77.08% \n",
            "3/10 | Cost: 55323.84 | Train/Valid Acc.: 79.82%/79.81% \n",
            "4/10 | Cost: 52567.62 | Train/Valid Acc.: 81.32%/81.20% \n",
            "5/10 | Cost: 50621.00 | Train/Valid Acc.: 82.36%/82.38% \n",
            "6/10 | Cost: 49150.72 | Train/Valid Acc.: 83.31%/83.29% \n",
            "7/10 | Cost: 47990.16 | Train/Valid Acc.: 84.04%/83.93% \n",
            "8/10 | Cost: 47047.53 | Train/Valid Acc.: 84.61%/84.66% \n",
            "9/10 | Cost: 46266.09 | Train/Valid Acc.: 85.06%/85.29% \n",
            "10/10 | Cost: 45606.82 | Train/Valid Acc.: 85.44%/85.61% \n",
            "1/10 | Cost: 67991.09 | Train/Valid Acc.: 64.15%/64.63% \n",
            "2/10 | Cost: 59279.93 | Train/Valid Acc.: 72.54%/73.05% \n",
            "3/10 | Cost: 54949.73 | Train/Valid Acc.: 76.51%/77.06% \n",
            "4/10 | Cost: 52223.97 | Train/Valid Acc.: 78.70%/79.13% \n",
            "5/10 | Cost: 50319.02 | Train/Valid Acc.: 80.22%/80.48% \n",
            "6/10 | Cost: 48897.13 | Train/Valid Acc.: 81.38%/81.53% \n",
            "7/10 | Cost: 47787.56 | Train/Valid Acc.: 82.31%/82.27% \n",
            "8/10 | Cost: 46893.77 | Train/Valid Acc.: 83.09%/82.93% \n",
            "9/10 | Cost: 46155.94 | Train/Valid Acc.: 83.74%/83.54% \n",
            "10/10 | Cost: 45534.06 | Train/Valid Acc.: 84.18%/84.01% \n",
            "1/10 | Cost: 86356.48 | Train/Valid Acc.: 45.79%/46.03% \n",
            "2/10 | Cost: 83545.45 | Train/Valid Acc.: 56.66%/56.89% \n",
            "3/10 | Cost: 81462.45 | Train/Valid Acc.: 60.42%/60.48% \n",
            "4/10 | Cost: 79522.80 | Train/Valid Acc.: 61.91%/61.99% \n",
            "5/10 | Cost: 77554.30 | Train/Valid Acc.: 62.64%/62.75% \n",
            "6/10 | Cost: 75567.56 | Train/Valid Acc.: 63.28%/63.54% \n",
            "7/10 | Cost: 73630.68 | Train/Valid Acc.: 63.69%/64.27% \n",
            "8/10 | Cost: 71806.51 | Train/Valid Acc.: 64.38%/65.03% \n",
            "9/10 | Cost: 70130.70 | Train/Valid Acc.: 65.19%/65.96% \n",
            "10/10 | Cost: 68613.20 | Train/Valid Acc.: 65.96%/66.71% \n",
            "1/10 | Cost: 86415.66 | Train/Valid Acc.: 50.43%/51.01% \n",
            "2/10 | Cost: 83672.12 | Train/Valid Acc.: 60.39%/60.68% \n",
            "3/10 | Cost: 81609.73 | Train/Valid Acc.: 63.22%/63.21% \n",
            "4/10 | Cost: 79639.94 | Train/Valid Acc.: 64.28%/64.14% \n",
            "5/10 | Cost: 77625.05 | Train/Valid Acc.: 64.81%/64.71% \n",
            "6/10 | Cost: 75595.94 | Train/Valid Acc.: 65.05%/64.87% \n",
            "7/10 | Cost: 73628.64 | Train/Valid Acc.: 65.41%/65.34% \n",
            "8/10 | Cost: 71787.90 | Train/Valid Acc.: 65.92%/65.84% \n",
            "9/10 | Cost: 70109.59 | Train/Valid Acc.: 66.36%/66.26% \n",
            "10/10 | Cost: 68602.65 | Train/Valid Acc.: 66.85%/66.68% \n",
            "1/10 | Cost: 86053.33 | Train/Valid Acc.: 55.38%/55.13% \n",
            "2/10 | Cost: 83344.39 | Train/Valid Acc.: 61.30%/61.32% \n",
            "3/10 | Cost: 81217.56 | Train/Valid Acc.: 63.13%/63.28% \n",
            "4/10 | Cost: 79160.78 | Train/Valid Acc.: 64.58%/64.62% \n",
            "5/10 | Cost: 77056.37 | Train/Valid Acc.: 65.41%/65.38% \n",
            "6/10 | Cost: 74955.66 | Train/Valid Acc.: 66.27%/66.18% \n",
            "7/10 | Cost: 72945.20 | Train/Valid Acc.: 67.04%/66.83% \n",
            "8/10 | Cost: 71086.39 | Train/Valid Acc.: 67.64%/67.85% \n",
            "9/10 | Cost: 69405.40 | Train/Valid Acc.: 68.15%/68.57% \n",
            "10/10 | Cost: 67902.93 | Train/Valid Acc.: 68.69%/68.98% \n",
            "1/10 | Cost: 90986.90 | Train/Valid Acc.: 11.17%/11.18% \n",
            "2/10 | Cost: 91096.06 | Train/Valid Acc.: 11.17%/11.18% \n",
            "3/10 | Cost: 91097.63 | Train/Valid Acc.: 11.17%/11.18% \n",
            "4/10 | Cost: 91077.79 | Train/Valid Acc.: 11.17%/11.18% \n",
            "5/10 | Cost: 91054.86 | Train/Valid Acc.: 11.17%/11.18% \n",
            "6/10 | Cost: 91033.84 | Train/Valid Acc.: 11.17%/11.18% \n",
            "7/10 | Cost: 91016.26 | Train/Valid Acc.: 11.17%/11.18% \n",
            "8/10 | Cost: 91002.43 | Train/Valid Acc.: 11.17%/11.18% \n",
            "9/10 | Cost: 90992.09 | Train/Valid Acc.: 11.17%/11.18% \n",
            "10/10 | Cost: 90984.66 | Train/Valid Acc.: 11.17%/11.18% \n",
            "1/10 | Cost: 91078.52 | Train/Valid Acc.: 10.37%/10.38% \n",
            "2/10 | Cost: 91129.93 | Train/Valid Acc.: 10.37%/10.38% \n",
            "3/10 | Cost: 91113.22 | Train/Valid Acc.: 10.37%/10.38% \n",
            "4/10 | Cost: 91089.30 | Train/Valid Acc.: 10.37%/10.38% \n",
            "5/10 | Cost: 91066.79 | Train/Valid Acc.: 10.37%/10.38% \n",
            "6/10 | Cost: 91047.44 | Train/Valid Acc.: 10.37%/10.38% \n",
            "7/10 | Cost: 91031.70 | Train/Valid Acc.: 10.37%/10.38% \n",
            "8/10 | Cost: 91019.55 | Train/Valid Acc.: 10.37%/10.38% \n",
            "9/10 | Cost: 91010.66 | Train/Valid Acc.: 10.37%/10.38% \n",
            "10/10 | Cost: 91004.49 | Train/Valid Acc.: 10.37%/10.38% \n",
            "1/10 | Cost: 91302.45 | Train/Valid Acc.: 10.52%/10.52% \n",
            "2/10 | Cost: 91350.70 | Train/Valid Acc.: 10.52%/10.52% \n",
            "3/10 | Cost: 91322.14 | Train/Valid Acc.: 10.52%/10.52% \n",
            "4/10 | Cost: 91285.30 | Train/Valid Acc.: 10.52%/10.52% \n",
            "5/10 | Cost: 91250.38 | Train/Valid Acc.: 10.52%/10.52% \n",
            "6/10 | Cost: 91219.93 | Train/Valid Acc.: 10.52%/10.52% \n",
            "7/10 | Cost: 91194.87 | Train/Valid Acc.: 10.52%/10.52% \n",
            "8/10 | Cost: 91175.35 | Train/Valid Acc.: 10.52%/10.52% \n",
            "9/10 | Cost: 91160.95 | Train/Valid Acc.: 10.52%/10.52% \n",
            "10/10 | Cost: 91150.79 | Train/Valid Acc.: 10.52%/10.52% \n",
            "1/10 | Cost: 90790.58 | Train/Valid Acc.: 11.71%/11.57% \n",
            "2/10 | Cost: 91213.96 | Train/Valid Acc.: 10.36%/10.37% \n",
            "3/10 | Cost: 91248.16 | Train/Valid Acc.: 10.36%/10.37% \n",
            "4/10 | Cost: 91239.55 | Train/Valid Acc.: 10.36%/10.37% \n",
            "5/10 | Cost: 91226.02 | Train/Valid Acc.: 10.36%/10.37% \n",
            "6/10 | Cost: 91212.69 | Train/Valid Acc.: 10.36%/10.37% \n",
            "7/10 | Cost: 91200.31 | Train/Valid Acc.: 10.36%/10.37% \n",
            "8/10 | Cost: 91188.98 | Train/Valid Acc.: 10.36%/10.37% \n",
            "9/10 | Cost: 91178.67 | Train/Valid Acc.: 10.36%/10.37% \n",
            "10/10 | Cost: 91169.37 | Train/Valid Acc.: 10.36%/10.37% \n",
            "1/10 | Cost: 90744.60 | Train/Valid Acc.: 10.03%/10.03% \n",
            "2/10 | Cost: 91182.08 | Train/Valid Acc.: 10.03%/10.03% \n",
            "3/10 | Cost: 91213.82 | Train/Valid Acc.: 10.03%/10.03% \n",
            "4/10 | Cost: 91203.98 | Train/Valid Acc.: 10.03%/10.03% \n",
            "5/10 | Cost: 91189.88 | Train/Valid Acc.: 10.03%/10.03% \n",
            "6/10 | Cost: 91176.23 | Train/Valid Acc.: 10.03%/10.03% \n",
            "7/10 | Cost: 91163.65 | Train/Valid Acc.: 10.03%/10.03% \n",
            "8/10 | Cost: 91152.22 | Train/Valid Acc.: 10.03%/10.03% \n",
            "9/10 | Cost: 91141.88 | Train/Valid Acc.: 10.03%/10.03% \n",
            "10/10 | Cost: 91132.61 | Train/Valid Acc.: 10.03%/10.03% \n",
            "1/10 | Cost: 90550.49 | Train/Valid Acc.: 19.59%/19.49% \n",
            "2/10 | Cost: 91074.05 | Train/Valid Acc.: 11.27%/11.27% \n",
            "3/10 | Cost: 91119.02 | Train/Valid Acc.: 11.27%/11.27% \n",
            "4/10 | Cost: 91113.27 | Train/Valid Acc.: 11.27%/11.27% \n",
            "5/10 | Cost: 91101.60 | Train/Valid Acc.: 11.27%/11.27% \n",
            "6/10 | Cost: 91089.93 | Train/Valid Acc.: 11.27%/11.27% \n",
            "7/10 | Cost: 91079.12 | Train/Valid Acc.: 11.27%/11.27% \n",
            "8/10 | Cost: 91069.26 | Train/Valid Acc.: 11.27%/11.27% \n",
            "9/10 | Cost: 91060.35 | Train/Valid Acc.: 11.27%/11.27% \n",
            "10/10 | Cost: 91052.35 | Train/Valid Acc.: 11.27%/11.27% \n",
            "1/10 | Cost: 90611.42 | Train/Valid Acc.: 20.58%/20.51% \n",
            "2/10 | Cost: 91102.57 | Train/Valid Acc.: 14.36%/14.24% \n",
            "3/10 | Cost: 91143.55 | Train/Valid Acc.: 10.36%/10.37% \n",
            "4/10 | Cost: 91136.65 | Train/Valid Acc.: 11.17%/11.18% \n",
            "5/10 | Cost: 91124.41 | Train/Valid Acc.: 11.17%/11.18% \n",
            "6/10 | Cost: 91112.35 | Train/Valid Acc.: 11.17%/11.18% \n",
            "7/10 | Cost: 91101.23 | Train/Valid Acc.: 11.17%/11.18% \n",
            "8/10 | Cost: 91091.16 | Train/Valid Acc.: 11.17%/11.18% \n",
            "9/10 | Cost: 91082.10 | Train/Valid Acc.: 11.17%/11.18% \n",
            "10/10 | Cost: 91074.00 | Train/Valid Acc.: 11.17%/11.18% \n",
            "1/10 | Cost: 90449.71 | Train/Valid Acc.: 11.85%/11.77% \n",
            "2/10 | Cost: 91063.27 | Train/Valid Acc.: 11.32%/11.32% \n",
            "3/10 | Cost: 91120.51 | Train/Valid Acc.: 11.32%/11.32% \n",
            "4/10 | Cost: 91116.75 | Train/Valid Acc.: 11.32%/11.32% \n",
            "5/10 | Cost: 91105.73 | Train/Valid Acc.: 11.32%/11.32% \n",
            "6/10 | Cost: 91094.59 | Train/Valid Acc.: 11.32%/11.32% \n",
            "7/10 | Cost: 91084.32 | Train/Valid Acc.: 11.32%/11.32% \n",
            "8/10 | Cost: 91075.05 | Train/Valid Acc.: 11.32%/11.32% \n",
            "9/10 | Cost: 91066.74 | Train/Valid Acc.: 11.32%/11.32% \n",
            "10/10 | Cost: 91059.36 | Train/Valid Acc.: 11.32%/11.32% \n",
            "1/10 | Cost: 90664.25 | Train/Valid Acc.: 10.52%/10.52% \n",
            "2/10 | Cost: 91177.85 | Train/Valid Acc.: 10.52%/10.52% \n",
            "3/10 | Cost: 91218.14 | Train/Valid Acc.: 10.52%/10.52% \n",
            "4/10 | Cost: 91209.85 | Train/Valid Acc.: 10.52%/10.52% \n",
            "5/10 | Cost: 91196.24 | Train/Valid Acc.: 10.52%/10.52% \n",
            "6/10 | Cost: 91182.82 | Train/Valid Acc.: 10.52%/10.52% \n",
            "7/10 | Cost: 91170.36 | Train/Valid Acc.: 10.52%/10.52% \n",
            "8/10 | Cost: 91158.97 | Train/Valid Acc.: 10.52%/10.52% \n",
            "9/10 | Cost: 91148.63 | Train/Valid Acc.: 10.52%/10.52% \n",
            "10/10 | Cost: 91139.30 | Train/Valid Acc.: 10.52%/10.52% \n",
            "1/10 | Cost: 89785.95 | Train/Valid Acc.: 11.51%/11.58% \n",
            "2/10 | Cost: 90627.40 | Train/Valid Acc.: 11.17%/11.18% \n",
            "3/10 | Cost: 90857.12 | Train/Valid Acc.: 11.17%/11.18% \n",
            "4/10 | Cost: 90949.58 | Train/Valid Acc.: 11.17%/11.18% \n",
            "5/10 | Cost: 90994.15 | Train/Valid Acc.: 11.17%/11.18% \n",
            "6/10 | Cost: 91017.80 | Train/Valid Acc.: 11.17%/11.18% \n",
            "7/10 | Cost: 91030.98 | Train/Valid Acc.: 11.17%/11.18% \n",
            "8/10 | Cost: 91038.45 | Train/Valid Acc.: 11.17%/11.18% \n",
            "9/10 | Cost: 91042.64 | Train/Valid Acc.: 11.17%/11.18% \n",
            "10/10 | Cost: 91044.89 | Train/Valid Acc.: 11.17%/11.18% \n",
            "1/10 | Cost: 89882.05 | Train/Valid Acc.: 19.42%/19.23% \n",
            "2/10 | Cost: 90707.43 | Train/Valid Acc.: 9.91%/9.91% \n",
            "3/10 | Cost: 90933.74 | Train/Valid Acc.: 9.91%/9.91% \n",
            "4/10 | Cost: 91020.17 | Train/Valid Acc.: 9.91%/9.91% \n",
            "5/10 | Cost: 91057.99 | Train/Valid Acc.: 9.91%/9.91% \n",
            "6/10 | Cost: 91075.36 | Train/Valid Acc.: 9.91%/9.91% \n",
            "7/10 | Cost: 91083.11 | Train/Valid Acc.: 9.91%/9.91% \n",
            "8/10 | Cost: 91086.04 | Train/Valid Acc.: 9.91%/9.91% \n",
            "9/10 | Cost: 91086.48 | Train/Valid Acc.: 9.91%/9.91% \n",
            "10/10 | Cost: 91085.69 | Train/Valid Acc.: 9.91%/9.91% \n",
            "1/10 | Cost: 90062.23 | Train/Valid Acc.: 25.36%/25.76% \n",
            "2/10 | Cost: 90828.31 | Train/Valid Acc.: 10.24%/10.28% \n",
            "3/10 | Cost: 91034.18 | Train/Valid Acc.: 10.16%/10.16% \n",
            "4/10 | Cost: 91114.15 | Train/Valid Acc.: 10.16%/10.16% \n",
            "5/10 | Cost: 91150.05 | Train/Valid Acc.: 10.16%/10.16% \n",
            "6/10 | Cost: 91166.96 | Train/Valid Acc.: 10.16%/10.16% \n",
            "7/10 | Cost: 91174.69 | Train/Valid Acc.: 10.16%/10.16% \n",
            "8/10 | Cost: 91177.72 | Train/Valid Acc.: 10.16%/10.16% \n",
            "9/10 | Cost: 91178.28 | Train/Valid Acc.: 10.16%/10.16% \n",
            "10/10 | Cost: 91177.59 | Train/Valid Acc.: 10.16%/10.16% \n",
            "1/10 | Cost: 90686.75 | Train/Valid Acc.: 17.99%/18.20% \n",
            "2/10 | Cost: 90105.09 | Train/Valid Acc.: 22.83%/23.05% \n",
            "3/10 | Cost: 89638.26 | Train/Valid Acc.: 29.33%/29.70% \n",
            "4/10 | Cost: 89148.39 | Train/Valid Acc.: 36.88%/37.15% \n",
            "5/10 | Cost: 88586.59 | Train/Valid Acc.: 42.41%/42.39% \n",
            "6/10 | Cost: 87929.06 | Train/Valid Acc.: 46.28%/46.03% \n",
            "7/10 | Cost: 87182.74 | Train/Valid Acc.: 48.96%/48.83% \n",
            "8/10 | Cost: 86370.43 | Train/Valid Acc.: 50.98%/50.64% \n",
            "9/10 | Cost: 85508.63 | Train/Valid Acc.: 52.38%/51.96% \n",
            "10/10 | Cost: 84610.51 | Train/Valid Acc.: 53.30%/53.08% \n",
            "1/10 | Cost: 90579.30 | Train/Valid Acc.: 20.41%/20.44% \n",
            "2/10 | Cost: 90084.81 | Train/Valid Acc.: 24.96%/25.32% \n",
            "3/10 | Cost: 89621.32 | Train/Valid Acc.: 31.09%/32.06% \n",
            "4/10 | Cost: 89088.27 | Train/Valid Acc.: 37.51%/38.41% \n",
            "5/10 | Cost: 88424.87 | Train/Valid Acc.: 42.85%/43.58% \n",
            "6/10 | Cost: 87614.06 | Train/Valid Acc.: 46.61%/47.39% \n",
            "7/10 | Cost: 86686.79 | Train/Valid Acc.: 49.09%/49.81% \n",
            "8/10 | Cost: 85667.10 | Train/Valid Acc.: 50.55%/51.31% \n",
            "9/10 | Cost: 84601.02 | Train/Valid Acc.: 51.64%/52.35% \n",
            "10/10 | Cost: 83530.63 | Train/Valid Acc.: 52.59%/53.10% \n",
            "1/10 | Cost: 90579.25 | Train/Valid Acc.: 15.30%/15.06% \n",
            "2/10 | Cost: 89884.17 | Train/Valid Acc.: 17.31%/17.30% \n",
            "3/10 | Cost: 89268.45 | Train/Valid Acc.: 23.99%/24.38% \n",
            "4/10 | Cost: 88596.26 | Train/Valid Acc.: 31.74%/32.76% \n",
            "5/10 | Cost: 87829.60 | Train/Valid Acc.: 37.41%/38.34% \n",
            "6/10 | Cost: 86955.25 | Train/Valid Acc.: 41.56%/41.89% \n",
            "7/10 | Cost: 85979.97 | Train/Valid Acc.: 44.35%/44.76% \n",
            "8/10 | Cost: 84924.03 | Train/Valid Acc.: 46.56%/47.20% \n",
            "9/10 | Cost: 83814.06 | Train/Valid Acc.: 48.45%/49.11% \n",
            "10/10 | Cost: 82682.17 | Train/Valid Acc.: 50.24%/50.79% \n",
            "1/10 | Cost: 82916.07 | Train/Valid Acc.: 52.67%/51.61% \n",
            "2/10 | Cost: 75716.31 | Train/Valid Acc.: 66.76%/66.50% \n",
            "3/10 | Cost: 69724.69 | Train/Valid Acc.: 72.17%/71.50% \n",
            "4/10 | Cost: 64825.27 | Train/Valid Acc.: 75.09%/74.38% \n",
            "5/10 | Cost: 60866.09 | Train/Valid Acc.: 77.04%/76.16% \n",
            "6/10 | Cost: 57682.92 | Train/Valid Acc.: 78.31%/77.53% \n",
            "7/10 | Cost: 55113.50 | Train/Valid Acc.: 79.21%/78.39% \n",
            "8/10 | Cost: 53019.55 | Train/Valid Acc.: 80.08%/79.33% \n",
            "9/10 | Cost: 51293.14 | Train/Valid Acc.: 80.77%/80.05% \n",
            "10/10 | Cost: 49853.25 | Train/Valid Acc.: 81.31%/80.55% \n",
            "1/10 | Cost: 83095.28 | Train/Valid Acc.: 58.31%/57.88% \n",
            "2/10 | Cost: 76356.53 | Train/Valid Acc.: 68.61%/68.03% \n",
            "3/10 | Cost: 70431.53 | Train/Valid Acc.: 72.90%/72.24% \n",
            "4/10 | Cost: 65460.08 | Train/Valid Acc.: 75.28%/74.72% \n",
            "5/10 | Cost: 61385.12 | Train/Valid Acc.: 76.95%/76.40% \n",
            "6/10 | Cost: 58087.87 | Train/Valid Acc.: 78.14%/77.65% \n",
            "7/10 | Cost: 55427.64 | Train/Valid Acc.: 79.12%/78.53% \n",
            "8/10 | Cost: 53268.91 | Train/Valid Acc.: 79.90%/79.49% \n",
            "9/10 | Cost: 51499.18 | Train/Valid Acc.: 80.57%/80.12% \n",
            "10/10 | Cost: 50031.69 | Train/Valid Acc.: 81.03%/80.66% \n",
            "1/10 | Cost: 83515.05 | Train/Valid Acc.: 52.31%/52.62% \n",
            "2/10 | Cost: 76919.41 | Train/Valid Acc.: 65.29%/65.34% \n",
            "3/10 | Cost: 71135.87 | Train/Valid Acc.: 69.80%/69.67% \n",
            "4/10 | Cost: 66152.83 | Train/Valid Acc.: 72.62%/72.51% \n",
            "5/10 | Cost: 61989.71 | Train/Valid Acc.: 74.73%/74.49% \n",
            "6/10 | Cost: 58589.81 | Train/Valid Acc.: 76.30%/75.92% \n",
            "7/10 | Cost: 55830.66 | Train/Valid Acc.: 77.53%/76.93% \n",
            "8/10 | Cost: 53582.24 | Train/Valid Acc.: 78.44%/77.72% \n",
            "9/10 | Cost: 51734.47 | Train/Valid Acc.: 79.19%/78.55% \n",
            "10/10 | Cost: 50201.19 | Train/Valid Acc.: 80.01%/79.29% \n",
            "1/10 | Cost: 62032.81 | Train/Valid Acc.: 68.83%/69.17% \n",
            "2/10 | Cost: 48910.49 | Train/Valid Acc.: 78.36%/78.38% \n",
            "3/10 | Cost: 44784.73 | Train/Valid Acc.: 81.71%/81.73% \n",
            "4/10 | Cost: 43143.27 | Train/Valid Acc.: 83.34%/83.18% \n",
            "5/10 | Cost: 42335.17 | Train/Valid Acc.: 84.12%/84.06% \n",
            "6/10 | Cost: 41858.82 | Train/Valid Acc.: 84.57%/84.54% \n",
            "7/10 | Cost: 41540.19 | Train/Valid Acc.: 84.90%/84.74% \n",
            "8/10 | Cost: 41309.59 | Train/Valid Acc.: 85.11%/85.04% \n",
            "9/10 | Cost: 41134.27 | Train/Valid Acc.: 85.25%/85.22% \n",
            "10/10 | Cost: 40996.00 | Train/Valid Acc.: 85.37%/85.35% \n",
            "1/10 | Cost: 61571.25 | Train/Valid Acc.: 73.72%/73.90% \n",
            "2/10 | Cost: 49063.63 | Train/Valid Acc.: 80.45%/80.59% \n",
            "3/10 | Cost: 45049.48 | Train/Valid Acc.: 83.17%/83.33% \n",
            "4/10 | Cost: 43328.94 | Train/Valid Acc.: 84.41%/84.48% \n",
            "5/10 | Cost: 42444.62 | Train/Valid Acc.: 85.08%/85.15% \n",
            "6/10 | Cost: 41921.24 | Train/Valid Acc.: 85.41%/85.32% \n",
            "7/10 | Cost: 41577.42 | Train/Valid Acc.: 85.60%/85.51% \n",
            "8/10 | Cost: 41334.87 | Train/Valid Acc.: 85.74%/85.55% \n",
            "9/10 | Cost: 41155.18 | Train/Valid Acc.: 85.80%/85.58% \n",
            "10/10 | Cost: 41017.16 | Train/Valid Acc.: 85.81%/85.62% \n",
            "1/10 | Cost: 60682.20 | Train/Valid Acc.: 69.16%/68.91% \n",
            "2/10 | Cost: 48945.90 | Train/Valid Acc.: 80.10%/79.82% \n",
            "3/10 | Cost: 44830.56 | Train/Valid Acc.: 83.34%/83.11% \n",
            "4/10 | Cost: 43099.48 | Train/Valid Acc.: 84.66%/84.38% \n",
            "5/10 | Cost: 42247.89 | Train/Valid Acc.: 85.35%/84.97% \n",
            "6/10 | Cost: 41756.11 | Train/Valid Acc.: 85.76%/85.39% \n",
            "7/10 | Cost: 41434.22 | Train/Valid Acc.: 85.93%/85.64% \n",
            "8/10 | Cost: 41204.82 | Train/Valid Acc.: 86.05%/85.78% \n",
            "9/10 | Cost: 41032.00 | Train/Valid Acc.: 86.10%/85.90% \n",
            "10/10 | Cost: 40896.84 | Train/Valid Acc.: 86.15%/85.97% \n",
            "1/10 | Cost: 79720.46 | Train/Valid Acc.: 79.61%/79.41% \n",
            "2/10 | Cost: 67320.83 | Train/Valid Acc.: 84.05%/84.04% \n",
            "3/10 | Cost: 64049.30 | Train/Valid Acc.: 85.39%/85.42% \n",
            "4/10 | Cost: 62728.36 | Train/Valid Acc.: 85.97%/86.01% \n",
            "5/10 | Cost: 62029.89 | Train/Valid Acc.: 86.21%/86.38% \n",
            "6/10 | Cost: 61601.55 | Train/Valid Acc.: 86.35%/86.57% \n",
            "7/10 | Cost: 61318.26 | Train/Valid Acc.: 86.42%/86.66% \n",
            "8/10 | Cost: 61121.71 | Train/Valid Acc.: 86.46%/86.68% \n",
            "9/10 | Cost: 60979.23 | Train/Valid Acc.: 86.50%/86.71% \n",
            "10/10 | Cost: 60871.12 | Train/Valid Acc.: 86.54%/86.75% \n",
            "Pipeline(steps=[('normalizer', Normalizer()),\n",
            "                ('classifier',\n",
            "                 FullyConnectedNetwork(epochs=10, l1=0.01, l2=0.01,\n",
            "                                       n_hidden=50))]) 0.8564000000000002\n"
          ]
        }
      ],
      "source": [
        "# Define parameters\n",
        "parameters = {\n",
        "    'classifier__l1' : [0.001, 0.01, 0.1],\n",
        "    'classifier__l2' : [0.001, 0.01, 0.1],\n",
        "    'classifier__n_hidden' : [30, 50, 100],\n",
        "    'classifier__eta' : [0.0001, 0.0005, 0.001],\n",
        "    'classifier__init_technique' : [\"normal\", \"xavier\", \"he\"]\n",
        "  }\n",
        "\n",
        "# Run randomized search and fit\n",
        "grid = RandomizedSearchCV(pipe, param_distributions=parameters, n_iter = 10, cv=3, random_state=12345)\n",
        "grid.fit(X_train, y_train)\n",
        "\n",
        "# Report best classifier and best score into the variables \n",
        "best_classifier = grid.best_estimator_\n",
        "best_score = grid.best_score_\n",
        "\n",
        "print(best_classifier, best_score)"
      ]
    }
  ],
  "metadata": {
    "colab": {
      "collapsed_sections": [],
      "name": "HW2.ipynb",
      "provenance": []
    },
    "kernelspec": {
      "display_name": "Python 3",
      "name": "python3"
    },
    "language_info": {
      "name": "python",
      "version": "3.8.3"
    }
  },
  "nbformat": 4,
  "nbformat_minor": 0
}
